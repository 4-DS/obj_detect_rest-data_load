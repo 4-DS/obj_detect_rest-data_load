{
 "cells": [
  {
   "cell_type": "code",
   "execution_count": null,
   "id": "28ad034d-d71b-4f3d-a0c7-75c2d6cf5b36",
   "metadata": {
    "tags": []
   },
   "outputs": [],
   "source": [
    "%load_ext autoreload\n",
    "%autoreload 2"
   ]
  },
  {
   "cell_type": "code",
   "execution_count": null,
   "id": "88025c46-a078-4d3f-b403-ca4cb6a189ca",
   "metadata": {
    "tags": [
     "parameters"
    ]
   },
   "outputs": [],
   "source": [
    "# specify substep parameters for interactive run\n",
    "# this cell will be replaced during job run with the parameters from json within params subfolder\n",
    "substep_params={\n",
    "    \"coco_datasets_images_url\": \"http://images.cocodataset.org/zips/val2017.zip\",\n",
    "    \"coco_datasets_annotations_url\": \"http://images.cocodataset.org/annotations/annotations_trainval2017.zip\",\n",
    "    \"yolox_pth_pretrain_weights\": \"https://download.openmmlab.com/mmdetection/v2.0/yolox/yolox_s_8x8_300e_coco/yolox_s_8x8_300e_coco_20211121_095711-4592a793.pth\"\n",
    "}"
   ]
  },
  {
   "cell_type": "code",
   "execution_count": null,
   "id": "6f4722b6-ebf7-4b7d-bce3-7381c897f2cb",
   "metadata": {
    "tags": []
   },
   "outputs": [],
   "source": [
    "# load pipeline and step parameters - do not edit\n",
    "from sinara.substep import get_pipeline_params, get_step_params\n",
    "pipeline_params = get_pipeline_params(pprint=True)\n",
    "step_params = get_step_params(pprint=True)"
   ]
  },
  {
   "cell_type": "code",
   "execution_count": null,
   "id": "d0508bde-536b-4d9e-9826-ddd8d4dcd056",
   "metadata": {},
   "outputs": [],
   "source": [
    "# specify all notebook wide libraries imports here\n",
    "# Sinara lib imports is left in the place of their usage\n",
    "import os\n",
    "import os.path as osp"
   ]
  },
  {
   "cell_type": "code",
   "execution_count": null,
   "id": "f067c0a4-3e3e-46f9-8b49-d905d1a1bf96",
   "metadata": {
    "tags": []
   },
   "outputs": [],
   "source": [
    "# define substep interface\n",
    "from sinara.substep import NotebookSubstep, ENV_NAME, PIPELINE_NAME, ZONE_NAME, STEP_NAME, RUN_ID, ENTITY_NAME, ENTITY_PATH, SUBSTEP_NAME\n",
    "\n",
    "substep = NotebookSubstep(pipeline_params, step_params, substep_params)\n",
    "\n",
    "substep.interface(\n",
    "    tmp_entities = \n",
    "    [\n",
    "        { ENTITY_NAME: \"downloaded_archives\"}, # temporarily dowloaded zip archives\n",
    "        { ENTITY_NAME: \"coco_datasets_images\"}, # extracted temporary images from downloaded_archives zip\n",
    "        { ENTITY_NAME: \"coco_datasets_annotations\"}, # extracted temporary annotations from downloaded_archives zip\n",
    "        { ENTITY_NAME: \"yolox_pth_pretrain_weights\"} # temporarily dowloaded pretrain weights\n",
    "    ],\n",
    "\n",
    "    outputs =\n",
    "    [\n",
    "        { ENTITY_NAME: \"coco_datasets_images\"}, # images stored for using in next steps\n",
    "        { ENTITY_NAME: \"coco_datasets_annotations\"}, # annotations stored for using in next steps\n",
    "        { ENTITY_NAME: \"yolox_pth_pretrain_weights\"} # pretrain weights stored for using in next steps\n",
    "    ]\n",
    ")\n",
    "\n",
    "substep.print_interface_info()\n",
    "\n",
    "substep.exit_in_visualize_mode()"
   ]
  },
  {
   "cell_type": "code",
   "execution_count": null,
   "id": "74a4a572-4573-4ead-8912-a3560e53db86",
   "metadata": {
    "tags": []
   },
   "outputs": [],
   "source": [
    "# run spark\n",
    "from sinara.spark import SinaraSpark\n",
    "from sinara.archive import SinaraArchive\n",
    "\n",
    "spark = SinaraSpark.run_session(0)\n",
    "archive = SinaraArchive(spark)\n",
    "SinaraSpark.ui_url()"
   ]
  },
  {
   "cell_type": "markdown",
   "id": "2398c9d8-2ec6-42f6-ad0f-0a929b973062",
   "metadata": {
    "tags": []
   },
   "source": [
    "### Loading coco_datasets_images and coco_datasets_annotations zip archive"
   ]
  },
  {
   "cell_type": "code",
   "execution_count": null,
   "id": "31c22b76-868d-46dd-9caa-aaa0aafcddcb",
   "metadata": {
    "tags": []
   },
   "outputs": [],
   "source": [
    "tmp_entities = substep.tmp_entities()\n",
    "\n",
    "coco_datasets_images_url = substep_params[\"coco_datasets_images_url\"]\n",
    "coco_datasets_annotations_url = substep_params[\"coco_datasets_annotations_url\"]"
   ]
  },
  {
   "cell_type": "code",
   "execution_count": null,
   "id": "d8fd7dc2-f644-4235-a5ba-0c21c06ca7a8",
   "metadata": {
    "tags": []
   },
   "outputs": [],
   "source": [
    "# Download coco_datasets_images\n",
    "!wget {coco_datasets_images_url} -O {osp.join(tmp_entities.downloaded_archives, osp.basename(coco_datasets_images_url))}"
   ]
  },
  {
   "cell_type": "code",
   "execution_count": null,
   "id": "03fa313e-bb2a-452b-ae37-660eec26df37",
   "metadata": {
    "tags": []
   },
   "outputs": [],
   "source": [
    "# Download annotation\n",
    "!wget {coco_datasets_annotations_url} -O {osp.join(tmp_entities.downloaded_archives, osp.basename(coco_datasets_annotations_url))}"
   ]
  },
  {
   "cell_type": "code",
   "execution_count": null,
   "id": "e4b60225-2226-470b-b627-339a93a2b704",
   "metadata": {
    "tags": []
   },
   "outputs": [],
   "source": [
    "# unzip\n",
    "!unzip -q {osp.join(tmp_entities.downloaded_archives, osp.basename(coco_datasets_images_url))} -d {tmp_entities.coco_datasets_images}\n",
    "!unzip -q {osp.join(tmp_entities.downloaded_archives, osp.basename(coco_datasets_annotations_url))} -d {tmp_entities.coco_datasets_annotations}"
   ]
  },
  {
   "cell_type": "markdown",
   "id": "75be98f0-c517-45be-8d21-dc32291447c4",
   "metadata": {
    "tags": []
   },
   "source": [
    "#### Load pretrain weights to directory of yolox_pth_pretrain_weights"
   ]
  },
  {
   "cell_type": "code",
   "execution_count": null,
   "id": "95fb81da-f3c9-47ef-ac30-a4553437e220",
   "metadata": {
    "tags": []
   },
   "outputs": [],
   "source": [
    "yolox_pth_pretrain_weights_url = substep_params[\"yolox_pth_pretrain_weights\"]\n",
    "yolox_pth_pretrain_weights_path = osp.join(tmp_entities.yolox_pth_pretrain_weights, osp.basename(yolox_pth_pretrain_weights_url))\n",
    " \n",
    "!wget {yolox_pth_pretrain_weights_url} -O {yolox_pth_pretrain_weights_path}"
   ]
  },
  {
   "cell_type": "markdown",
   "id": "b7daa3e3-bf19-4ccf-bda8-75ac0e1b3701",
   "metadata": {
    "tags": []
   },
   "source": [
    "### Archiving coco_datasets_images and coco_datasets_annotations for next step"
   ]
  },
  {
   "cell_type": "code",
   "execution_count": null,
   "id": "e6765536-1370-476c-a2f9-db56f6140906",
   "metadata": {
    "tags": []
   },
   "outputs": [],
   "source": [
    "# Save tmp_entities.coco_datasets_images and tmp_entities.coco_datasets_annotations to outputs of step data_load\n",
    "tmp_dir_coco_datasets_images = osp.join(tmp_entities.coco_datasets_images, \"val2017\")\n",
    "tmp_dir_coco_datasets_annotations = osp.join(tmp_entities.coco_datasets_annotations, \"annotations\")\n",
    "\n",
    "outputs = substep.outputs()\n",
    "\n",
    "archive.pack_files_from_tmp_to_store(tmp_entity_dir=tmp_dir_coco_datasets_images, store_path=outputs.coco_datasets_images)\n",
    "archive.pack_files_from_tmp_to_store(tmp_entity_dir=tmp_dir_coco_datasets_annotations, store_path=outputs.coco_datasets_annotations)\n",
    "archive.pack_files_from_tmp_to_store(tmp_entity_dir=tmp_entities.yolox_pth_pretrain_weights, store_path=outputs.yolox_pth_pretrain_weights)"
   ]
  },
  {
   "cell_type": "code",
   "execution_count": null,
   "id": "7fa243b4-ec85-4950-94f5-6c08898e53a0",
   "metadata": {
    "tags": []
   },
   "outputs": [],
   "source": [
    "# Stop spark\n",
    "SinaraSpark.stop_session()"
   ]
  }
 ],
 "metadata": {
  "kernelspec": {
   "display_name": "cv",
   "language": "python",
   "name": "cv"
  },
  "language_info": {
   "codemirror_mode": {
    "name": "ipython",
    "version": 3
   },
   "file_extension": ".py",
   "mimetype": "text/x-python",
   "name": "python",
   "nbconvert_exporter": "python",
   "pygments_lexer": "ipython3",
   "version": "3.9.10"
  }
 },
 "nbformat": 4,
 "nbformat_minor": 5
}
